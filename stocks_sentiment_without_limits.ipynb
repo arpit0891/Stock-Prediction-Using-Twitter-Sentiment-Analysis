{
  "nbformat": 4,
  "nbformat_minor": 0,
  "metadata": {
    "colab": {
      "name": "stocks_sentiment_without_limits.ipynb",
      "provenance": [],
      "authorship_tag": "ABX9TyPOixRSOclb5CS9qjT0PXub",
      "include_colab_link": true
    },
    "kernelspec": {
      "name": "python3",
      "display_name": "Python 3"
    }
  },
  "cells": [
    {
      "cell_type": "markdown",
      "metadata": {
        "id": "view-in-github",
        "colab_type": "text"
      },
      "source": [
        "<a href=\"https://colab.research.google.com/github/arpit0891/Stock-price-predection-using-LSTM-and-Sentiment-analysis/blob/arpit0891-patch-1/stocks_sentiment_without_limits.ipynb\" target=\"_parent\"><img src=\"https://colab.research.google.com/assets/colab-badge.svg\" alt=\"Open In Colab\"/></a>"
      ]
    },
    {
      "cell_type": "code",
      "metadata": {
        "colab": {
          "base_uri": "https://localhost:8080/"
        },
        "id": "l396XrvY69UD",
        "outputId": "e7328ec0-5bea-4007-c2e0-fcb0150c1f47"
      },
      "source": [
        "from pydrive.auth import GoogleAuth\n",
        "from pydrive.drive import GoogleDrive\n",
        "from google.colab import auth\n",
        "from oauth2client.client import GoogleCredentials\n",
        "auth.authenticate_user()\n",
        "gauth = GoogleAuth()\n",
        "gauth.credentials = GoogleCredentials.get_application_default()\n",
        "drive = GoogleDrive(gauth)\n",
        "from google.colab import drive\n",
        "drive.mount('/content/drive')\n"
      ],
      "execution_count": null,
      "outputs": [
        {
          "output_type": "stream",
          "text": [
            "Drive already mounted at /content/drive; to attempt to forcibly remount, call drive.mount(\"/content/drive\", force_remount=True).\n"
          ],
          "name": "stdout"
        }
      ]
    },
    {
      "cell_type": "code",
      "metadata": {
        "colab": {
          "base_uri": "https://localhost:8080/",
          "height": 424
        },
        "id": "j5icp72q8qlA",
        "outputId": "60cffeca-94e3-43e5-9485-39a152110270"
      },
      "source": [
        "import numpy as np\n",
        "import pandas as pd\n",
        "stocks_dataf = pd.read_pickle('/content/drive/My Drive/Data_science/Twitter_Dataset.pkl')\n",
        "stocks_dataf"
      ],
      "execution_count": null,
      "outputs": [
        {
          "output_type": "execute_result",
          "data": {
            "text/html": [
              "<div>\n",
              "<style scoped>\n",
              "    .dataframe tbody tr th:only-of-type {\n",
              "        vertical-align: middle;\n",
              "    }\n",
              "\n",
              "    .dataframe tbody tr th {\n",
              "        vertical-align: top;\n",
              "    }\n",
              "\n",
              "    .dataframe thead th {\n",
              "        text-align: right;\n",
              "    }\n",
              "</style>\n",
              "<table border=\"1\" class=\"dataframe\">\n",
              "  <thead>\n",
              "    <tr style=\"text-align: right;\">\n",
              "      <th></th>\n",
              "      <th>close</th>\n",
              "      <th>adj close</th>\n",
              "      <th>articles</th>\n",
              "    </tr>\n",
              "  </thead>\n",
              "  <tbody>\n",
              "    <tr>\n",
              "      <th>2007-01-01</th>\n",
              "      <td>12469.971875</td>\n",
              "      <td>12469.971875</td>\n",
              "      <td>. What Sticks from '06. Somalia Orders Islamis...</td>\n",
              "    </tr>\n",
              "    <tr>\n",
              "      <th>2007-01-02</th>\n",
              "      <td>12472.245703</td>\n",
              "      <td>12472.245703</td>\n",
              "      <td>. Heart Health: Vitamin Does Not Prevent Death...</td>\n",
              "    </tr>\n",
              "    <tr>\n",
              "      <th>2007-01-03</th>\n",
              "      <td>12474.519531</td>\n",
              "      <td>12474.519531</td>\n",
              "      <td>. Google Answer to Filling Jobs Is an Algorith...</td>\n",
              "    </tr>\n",
              "    <tr>\n",
              "      <th>2007-01-04</th>\n",
              "      <td>12480.690430</td>\n",
              "      <td>12480.690430</td>\n",
              "      <td>. Helping Make the Shift From Combat to Commer...</td>\n",
              "    </tr>\n",
              "    <tr>\n",
              "      <th>2007-01-05</th>\n",
              "      <td>12398.009766</td>\n",
              "      <td>12398.009766</td>\n",
              "      <td>. Rise in Ethanol Raises Concerns About Corn a...</td>\n",
              "    </tr>\n",
              "    <tr>\n",
              "      <th>...</th>\n",
              "      <td>...</td>\n",
              "      <td>...</td>\n",
              "      <td>...</td>\n",
              "    </tr>\n",
              "    <tr>\n",
              "      <th>2016-12-27</th>\n",
              "      <td>19945.039062</td>\n",
              "      <td>19945.039062</td>\n",
              "      <td>. Should the U.S. Embassy Be Moved From Tel Av...</td>\n",
              "    </tr>\n",
              "    <tr>\n",
              "      <th>2016-12-28</th>\n",
              "      <td>19833.679688</td>\n",
              "      <td>19833.679688</td>\n",
              "      <td>. When Finding the Right Lawyer Seems Daunting...</td>\n",
              "    </tr>\n",
              "    <tr>\n",
              "      <th>2016-12-29</th>\n",
              "      <td>19819.779297</td>\n",
              "      <td>19819.779297</td>\n",
              "      <td>. Does Empathy Guide or Hinder Moral Action?. ...</td>\n",
              "    </tr>\n",
              "    <tr>\n",
              "      <th>2016-12-30</th>\n",
              "      <td>19762.599609</td>\n",
              "      <td>19762.599609</td>\n",
              "      <td>. Shielding Seized Assets From Corruption’s Cl...</td>\n",
              "    </tr>\n",
              "    <tr>\n",
              "      <th>2016-12-31</th>\n",
              "      <td>19762.599609</td>\n",
              "      <td>19762.599609</td>\n",
              "      <td>Terrorist Attack at Nightclub in Istanbul Kill...</td>\n",
              "    </tr>\n",
              "  </tbody>\n",
              "</table>\n",
              "<p>3653 rows × 3 columns</p>\n",
              "</div>"
            ],
            "text/plain": [
              "                   close  ...                                           articles\n",
              "2007-01-01  12469.971875  ...  . What Sticks from '06. Somalia Orders Islamis...\n",
              "2007-01-02  12472.245703  ...  . Heart Health: Vitamin Does Not Prevent Death...\n",
              "2007-01-03  12474.519531  ...  . Google Answer to Filling Jobs Is an Algorith...\n",
              "2007-01-04  12480.690430  ...  . Helping Make the Shift From Combat to Commer...\n",
              "2007-01-05  12398.009766  ...  . Rise in Ethanol Raises Concerns About Corn a...\n",
              "...                  ...  ...                                                ...\n",
              "2016-12-27  19945.039062  ...  . Should the U.S. Embassy Be Moved From Tel Av...\n",
              "2016-12-28  19833.679688  ...  . When Finding the Right Lawyer Seems Daunting...\n",
              "2016-12-29  19819.779297  ...  . Does Empathy Guide or Hinder Moral Action?. ...\n",
              "2016-12-30  19762.599609  ...  . Shielding Seized Assets From Corruption’s Cl...\n",
              "2016-12-31  19762.599609  ...  Terrorist Attack at Nightclub in Istanbul Kill...\n",
              "\n",
              "[3653 rows x 3 columns]"
            ]
          },
          "metadata": {
            "tags": []
          },
          "execution_count": 17
        }
      ]
    },
    {
      "cell_type": "code",
      "metadata": {
        "id": "I5AKnv1K9DVK"
      },
      "source": [
        "stocks_dataf.columns=['closing_price','adj_close_price','Tweets']"
      ],
      "execution_count": null,
      "outputs": []
    },
    {
      "cell_type": "code",
      "metadata": {
        "colab": {
          "base_uri": "https://localhost:8080/",
          "height": 548
        },
        "id": "p4O7T3KO9GyU",
        "outputId": "17a067a2-f4cb-4b10-a662-c88cf14ae294"
      },
      "source": [
        "stocks_dataf['adj_close_price'] = stocks_dataf['adj_close_price'].apply(np.int64)\n",
        "stocks_dataf = stocks_dataf[['adj_close_price', 'Tweets']]\n",
        "stocks_dataf['Tweets'] = stocks_dataf['Tweets'].map(lambda x: x.lstrip('.-'))\n",
        "stocks_dataf"
      ],
      "execution_count": null,
      "outputs": [
        {
          "output_type": "stream",
          "text": [
            "/usr/local/lib/python3.6/dist-packages/ipykernel_launcher.py:3: SettingWithCopyWarning: \n",
            "A value is trying to be set on a copy of a slice from a DataFrame.\n",
            "Try using .loc[row_indexer,col_indexer] = value instead\n",
            "\n",
            "See the caveats in the documentation: https://pandas.pydata.org/pandas-docs/stable/user_guide/indexing.html#returning-a-view-versus-a-copy\n",
            "  This is separate from the ipykernel package so we can avoid doing imports until\n"
          ],
          "name": "stderr"
        },
        {
          "output_type": "execute_result",
          "data": {
            "text/html": [
              "<div>\n",
              "<style scoped>\n",
              "    .dataframe tbody tr th:only-of-type {\n",
              "        vertical-align: middle;\n",
              "    }\n",
              "\n",
              "    .dataframe tbody tr th {\n",
              "        vertical-align: top;\n",
              "    }\n",
              "\n",
              "    .dataframe thead th {\n",
              "        text-align: right;\n",
              "    }\n",
              "</style>\n",
              "<table border=\"1\" class=\"dataframe\">\n",
              "  <thead>\n",
              "    <tr style=\"text-align: right;\">\n",
              "      <th></th>\n",
              "      <th>adj_close_price</th>\n",
              "      <th>Tweets</th>\n",
              "    </tr>\n",
              "  </thead>\n",
              "  <tbody>\n",
              "    <tr>\n",
              "      <th>2007-01-01</th>\n",
              "      <td>12469</td>\n",
              "      <td>What Sticks from '06. Somalia Orders Islamist...</td>\n",
              "    </tr>\n",
              "    <tr>\n",
              "      <th>2007-01-02</th>\n",
              "      <td>12472</td>\n",
              "      <td>Heart Health: Vitamin Does Not Prevent Death ...</td>\n",
              "    </tr>\n",
              "    <tr>\n",
              "      <th>2007-01-03</th>\n",
              "      <td>12474</td>\n",
              "      <td>Google Answer to Filling Jobs Is an Algorithm...</td>\n",
              "    </tr>\n",
              "    <tr>\n",
              "      <th>2007-01-04</th>\n",
              "      <td>12480</td>\n",
              "      <td>Helping Make the Shift From Combat to Commerc...</td>\n",
              "    </tr>\n",
              "    <tr>\n",
              "      <th>2007-01-05</th>\n",
              "      <td>12398</td>\n",
              "      <td>Rise in Ethanol Raises Concerns About Corn as...</td>\n",
              "    </tr>\n",
              "    <tr>\n",
              "      <th>...</th>\n",
              "      <td>...</td>\n",
              "      <td>...</td>\n",
              "    </tr>\n",
              "    <tr>\n",
              "      <th>2016-12-27</th>\n",
              "      <td>19945</td>\n",
              "      <td>Should the U.S. Embassy Be Moved From Tel Avi...</td>\n",
              "    </tr>\n",
              "    <tr>\n",
              "      <th>2016-12-28</th>\n",
              "      <td>19833</td>\n",
              "      <td>When Finding the Right Lawyer Seems Daunting,...</td>\n",
              "    </tr>\n",
              "    <tr>\n",
              "      <th>2016-12-29</th>\n",
              "      <td>19819</td>\n",
              "      <td>Does Empathy Guide or Hinder Moral Action?. C...</td>\n",
              "    </tr>\n",
              "    <tr>\n",
              "      <th>2016-12-30</th>\n",
              "      <td>19762</td>\n",
              "      <td>Shielding Seized Assets From Corruption’s Clu...</td>\n",
              "    </tr>\n",
              "    <tr>\n",
              "      <th>2016-12-31</th>\n",
              "      <td>19762</td>\n",
              "      <td>Terrorist Attack at Nightclub in Istanbul Kill...</td>\n",
              "    </tr>\n",
              "  </tbody>\n",
              "</table>\n",
              "<p>3653 rows × 2 columns</p>\n",
              "</div>"
            ],
            "text/plain": [
              "            adj_close_price                                             Tweets\n",
              "2007-01-01            12469   What Sticks from '06. Somalia Orders Islamist...\n",
              "2007-01-02            12472   Heart Health: Vitamin Does Not Prevent Death ...\n",
              "2007-01-03            12474   Google Answer to Filling Jobs Is an Algorithm...\n",
              "2007-01-04            12480   Helping Make the Shift From Combat to Commerc...\n",
              "2007-01-05            12398   Rise in Ethanol Raises Concerns About Corn as...\n",
              "...                     ...                                                ...\n",
              "2016-12-27            19945   Should the U.S. Embassy Be Moved From Tel Avi...\n",
              "2016-12-28            19833   When Finding the Right Lawyer Seems Daunting,...\n",
              "2016-12-29            19819   Does Empathy Guide or Hinder Moral Action?. C...\n",
              "2016-12-30            19762   Shielding Seized Assets From Corruption’s Clu...\n",
              "2016-12-31            19762  Terrorist Attack at Nightclub in Istanbul Kill...\n",
              "\n",
              "[3653 rows x 2 columns]"
            ]
          },
          "metadata": {
            "tags": []
          },
          "execution_count": 19
        }
      ]
    },
    {
      "cell_type": "code",
      "metadata": {
        "id": "76ssmG6U9cyK"
      },
      "source": [
        "dataframe = stocks_dataf[['adj_close_price']].copy()"
      ],
      "execution_count": null,
      "outputs": []
    },
    {
      "cell_type": "code",
      "metadata": {
        "colab": {
          "base_uri": "https://localhost:8080/",
          "height": 424
        },
        "id": "AFnnKhQ49qYO",
        "outputId": "1570e75b-e705-46f6-b97d-76164a4efd05"
      },
      "source": [
        "dataframe"
      ],
      "execution_count": null,
      "outputs": [
        {
          "output_type": "execute_result",
          "data": {
            "text/html": [
              "<div>\n",
              "<style scoped>\n",
              "    .dataframe tbody tr th:only-of-type {\n",
              "        vertical-align: middle;\n",
              "    }\n",
              "\n",
              "    .dataframe tbody tr th {\n",
              "        vertical-align: top;\n",
              "    }\n",
              "\n",
              "    .dataframe thead th {\n",
              "        text-align: right;\n",
              "    }\n",
              "</style>\n",
              "<table border=\"1\" class=\"dataframe\">\n",
              "  <thead>\n",
              "    <tr style=\"text-align: right;\">\n",
              "      <th></th>\n",
              "      <th>adj_close_price</th>\n",
              "    </tr>\n",
              "  </thead>\n",
              "  <tbody>\n",
              "    <tr>\n",
              "      <th>2007-01-01</th>\n",
              "      <td>12469</td>\n",
              "    </tr>\n",
              "    <tr>\n",
              "      <th>2007-01-02</th>\n",
              "      <td>12472</td>\n",
              "    </tr>\n",
              "    <tr>\n",
              "      <th>2007-01-03</th>\n",
              "      <td>12474</td>\n",
              "    </tr>\n",
              "    <tr>\n",
              "      <th>2007-01-04</th>\n",
              "      <td>12480</td>\n",
              "    </tr>\n",
              "    <tr>\n",
              "      <th>2007-01-05</th>\n",
              "      <td>12398</td>\n",
              "    </tr>\n",
              "    <tr>\n",
              "      <th>...</th>\n",
              "      <td>...</td>\n",
              "    </tr>\n",
              "    <tr>\n",
              "      <th>2016-12-27</th>\n",
              "      <td>19945</td>\n",
              "    </tr>\n",
              "    <tr>\n",
              "      <th>2016-12-28</th>\n",
              "      <td>19833</td>\n",
              "    </tr>\n",
              "    <tr>\n",
              "      <th>2016-12-29</th>\n",
              "      <td>19819</td>\n",
              "    </tr>\n",
              "    <tr>\n",
              "      <th>2016-12-30</th>\n",
              "      <td>19762</td>\n",
              "    </tr>\n",
              "    <tr>\n",
              "      <th>2016-12-31</th>\n",
              "      <td>19762</td>\n",
              "    </tr>\n",
              "  </tbody>\n",
              "</table>\n",
              "<p>3653 rows × 1 columns</p>\n",
              "</div>"
            ],
            "text/plain": [
              "            adj_close_price\n",
              "2007-01-01            12469\n",
              "2007-01-02            12472\n",
              "2007-01-03            12474\n",
              "2007-01-04            12480\n",
              "2007-01-05            12398\n",
              "...                     ...\n",
              "2016-12-27            19945\n",
              "2016-12-28            19833\n",
              "2016-12-29            19819\n",
              "2016-12-30            19762\n",
              "2016-12-31            19762\n",
              "\n",
              "[3653 rows x 1 columns]"
            ]
          },
          "metadata": {
            "tags": []
          },
          "execution_count": 22
        }
      ]
    },
    {
      "cell_type": "code",
      "metadata": {
        "id": "WZ4iVOMH-NAt"
      },
      "source": [
        "from datetime import datetime, timedelta"
      ],
      "execution_count": null,
      "outputs": []
    }
  ]
}